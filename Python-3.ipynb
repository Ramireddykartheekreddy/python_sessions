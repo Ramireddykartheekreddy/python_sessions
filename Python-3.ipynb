{
 "cells": [
  {
   "cell_type": "code",
   "execution_count": null,
   "id": "1a88bcf1",
   "metadata": {},
   "outputs": [],
   "source": [
    "import math\n",
    "def area_of_circle():\n",
    "    pii=math.pi\n",
    "    r=eval(input(\"Enter the radius\"))\n",
    "    area1=round(pii*r**2)\n",
    "    print(\"The area of circle is:\",area1)\n",
    "    \n",
    "area_of_circle()"
   ]
  },
  {
   "cell_type": "code",
   "execution_count": null,
   "id": "f2cc06ae",
   "metadata": {},
   "outputs": [],
   "source": [
    "a=eval(input(\"Enter a number:\"))"
   ]
  },
  {
   "cell_type": "code",
   "execution_count": null,
   "id": "cb2fe50a",
   "metadata": {},
   "outputs": [],
   "source": [
    "import random\n",
    "dir(random)"
   ]
  },
  {
   "cell_type": "code",
   "execution_count": null,
   "id": "982938e1",
   "metadata": {},
   "outputs": [],
   "source": [
    "import numpy\n",
    "dir(numpy)"
   ]
  },
  {
   "cell_type": "code",
   "execution_count": null,
   "id": "303138df",
   "metadata": {},
   "outputs": [],
   "source": [
    "numpy.ndarray(1)"
   ]
  },
  {
   "cell_type": "code",
   "execution_count": null,
   "id": "72bd3cd9",
   "metadata": {},
   "outputs": [],
   "source": [
    "try:\n",
    "    num=eval(input(\"enter a number:\"))\n",
    "    print(\"the square of {} is {}\".format(num,num*num))\n",
    "except Exception as e:\n",
    "    print(e) # capture the error\n",
    "    print('hello') # hello"
   ]
  },
  {
   "cell_type": "code",
   "execution_count": null,
   "id": "776df81c",
   "metadata": {},
   "outputs": [],
   "source": [
    "try:\n",
    "    num=eval(input(\"enter a number:\"))\n",
    "    print(\"the square of {} is {}\".format(num,num222*num))\n",
    "except Exception as e:\n",
    "    print(e) # capture the error\n",
    "    print('hello') # hello"
   ]
  },
  {
   "cell_type": "code",
   "execution_count": null,
   "id": "59249f1e",
   "metadata": {},
   "outputs": [],
   "source": [
    "import random\n",
    "try:\n",
    "    num=random.randint(1,200)\n",
    "    if (num>=10 and num<=99):\n",
    "        print(\"You won because {} is b/w 10 and 99\".format(num))\n",
    "    else:\n",
    "        print(\"You lost because {} is not b/w 10 and 99\".format(num))\n",
    "except exception as err:\n",
    "    print(err)"
   ]
  },
  {
   "cell_type": "code",
   "execution_count": null,
   "id": "06f4a197",
   "metadata": {},
   "outputs": [],
   "source": [
    "num=eval(input(\"Enter a number:\"))\n",
    "if(num>=0):\n",
    "    print(\"It is a Positive\")\n",
    "else:\n",
    "    print(\"It is a negative\")"
   ]
  },
  {
   "cell_type": "code",
   "execution_count": null,
   "id": "01598e3e",
   "metadata": {},
   "outputs": [],
   "source": [
    "num=eval(input(\"Enter a number\"))\n",
    "if num>=90:\n",
    "    print(\"A Grade\")\n",
    "elif 70<num<60:\n",
    "    print(\"B Grade\")\n",
    "elif 50<num<70:\n",
    "    print(\"C Grade\")\n",
    "else:\n",
    "    print(\"D Grade\")\n",
    "    "
   ]
  },
  {
   "cell_type": "code",
   "execution_count": 2,
   "id": "2e1a55eb",
   "metadata": {},
   "outputs": [
    {
     "name": "stdout",
     "output_type": "stream",
     "text": [
      "Enter a number89\n",
      "B Grade\n"
     ]
    }
   ],
   "source": [
    "num=eval(input(\"Enter a number\"))\n",
    "if num>=90:\n",
    "    print(\"A Grade\")\n",
    "elif num>=70:\n",
    "    print(\"B Grade\")\n",
    "elif num>=50:\n",
    "    print(\"C Grade\")\n",
    "else:\n",
    "    print(\"D Grade\")"
   ]
  },
  {
   "cell_type": "code",
   "execution_count": 6,
   "id": "42df855c",
   "metadata": {},
   "outputs": [
    {
     "name": "stdout",
     "output_type": "stream",
     "text": [
      "Enter the first number: 45\n",
      "Enter the second number: 46\n",
      "Enter the third number: 47\n",
      "The largest number is: 47.0\n"
     ]
    }
   ],
   "source": [
    "# Get three numbers from the user\n",
    "num1 = float(input(\"Enter the first number: \"))\n",
    "num2 = float(input(\"Enter the second number: \"))\n",
    "num3 = float(input(\"Enter the third number: \"))\n",
    "\n",
    "# Find the largest number\n",
    "max_number = max(num1, num2, num3)\n",
    "\n",
    "# Display the result\n",
    "print(\"The largest number is:\", max_number)\n"
   ]
  },
  {
   "cell_type": "code",
   "execution_count": null,
   "id": "149e145c",
   "metadata": {},
   "outputs": [],
   "source": []
  }
 ],
 "metadata": {
  "kernelspec": {
   "display_name": "Python 3 (ipykernel)",
   "language": "python",
   "name": "python3"
  },
  "language_info": {
   "codemirror_mode": {
    "name": "ipython",
    "version": 3
   },
   "file_extension": ".py",
   "mimetype": "text/x-python",
   "name": "python",
   "nbconvert_exporter": "python",
   "pygments_lexer": "ipython3",
   "version": "3.9.13"
  }
 },
 "nbformat": 4,
 "nbformat_minor": 5
}
