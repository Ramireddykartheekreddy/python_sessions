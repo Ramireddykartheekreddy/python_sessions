{
 "cells": [
  {
   "cell_type": "code",
   "execution_count": null,
   "id": "fdc26bc1",
   "metadata": {},
   "outputs": [],
   "source": [
    "import math\n",
    "def area_of_circle():\n",
    "    pii=math.pi\n",
    "    r=eval(input(\"Enter the radius\"))\n",
    "    area1=round(pii*r**2)\n",
    "    print(\"The area of circle is:\",area1)\n",
    "    \n",
    "area_of_circle()"
   ]
  },
  {
   "cell_type": "code",
   "execution_count": null,
   "id": "71146751",
   "metadata": {},
   "outputs": [],
   "source": []
  },
  {
   "cell_type": "code",
   "execution_count": null,
   "id": "823a9126",
   "metadata": {},
   "outputs": [],
   "source": []
  },
  {
   "cell_type": "code",
   "execution_count": null,
   "id": "3cc512cf",
   "metadata": {},
   "outputs": [],
   "source": []
  }
 ],
 "metadata": {
  "kernelspec": {
   "display_name": "Python 3 (ipykernel)",
   "language": "python",
   "name": "python3"
  },
  "language_info": {
   "codemirror_mode": {
    "name": "ipython",
    "version": 3
   },
   "file_extension": ".py",
   "mimetype": "text/x-python",
   "name": "python",
   "nbconvert_exporter": "python",
   "pygments_lexer": "ipython3",
   "version": "3.9.13"
  }
 },
 "nbformat": 4,
 "nbformat_minor": 5
}
